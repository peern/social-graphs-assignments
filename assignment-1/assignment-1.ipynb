{
 "cells": [
  {
   "cell_type": "code",
   "execution_count": null,
   "metadata": {},
   "outputs": [],
   "source": [
    "# imports\n",
    "import numpy as np\n",
    "from scipy.optimize import fsolve\n",
    "from scipy.special import factorial\n",
    "import matplotlib.pyplot as plt\n",
    "import networkx as nx\n",
    "import networkx.generators.random_graphs as rg\n",
    "import random"
   ]
  },
  {
   "cell_type": "markdown",
   "metadata": {
    "pycharm": {
     "name": "#%% md\n"
    }
   },
   "source": [
    "# Assignment 1\n",
    "_Social graphs and interactions (02805)_"
   ]
  },
  {
   "cell_type": "markdown",
   "metadata": {
    "pycharm": {
     "name": "#%% md\n"
    }
   },
   "source": [
    "## Part 2: Random networks and plotting in `networkx`"
   ]
  },
  {
   "cell_type": "markdown",
   "metadata": {},
   "source": [
    "### A. In your notebook, work through NS exercise 3.1 ('Erdős-Rényi Networks'). The exercise can be found in Section 3.11: Homework."
   ]
  },
  {
   "cell_type": "markdown",
   "metadata": {},
   "source": [
    "* Erdős-Rényi Networks\n",
    "\n",
    "Consider an Erdős-Rényi network with N = 3,000 nodes, connected to each other with probability $p = 10^{–3}$."
   ]
  },
  {
   "cell_type": "markdown",
   "metadata": {},
   "source": [
    "* What is the expected number of links, $〈L〉$?"
   ]
  },
  {
   "cell_type": "markdown",
   "metadata": {},
   "source": [
    "The maximum number of links $L_{max}$  is computed using the following formula: \n",
    "\n",
    "$L_{max} = \\frac{N(N-1)}{2}$\n",
    "\n",
    "Given the probability $p = 10^{–3}$ of nodes connected to each other we can computed the expected number of links:"
   ]
  },
  {
   "cell_type": "code",
   "execution_count": null,
   "metadata": {},
   "outputs": [],
   "source": [
    "N = 3000 # number of nodes\n",
    "p = 1e-3 # probability of nodes being connected\n",
    "(L) = (p * N * (N - 1)) / 2\n",
    "print('expected number of links <L>:', (L))"
   ]
  },
  {
   "cell_type": "markdown",
   "metadata": {},
   "source": [
    "* In which regime is the network?"
   ]
  },
  {
   "cell_type": "markdown",
   "metadata": {},
   "source": [
    "The regime can easily be tested given *N* and *p* as follows:"
   ]
  },
  {
   "cell_type": "code",
   "execution_count": null,
   "metadata": {},
   "outputs": [],
   "source": [
    "print(\"Subcritical Regime: \", p < 1 / N)\n",
    "print(\"Critical Point: \", p == 1 / N)\n",
    "print(\"Supercritical Regime: \", p > 1 / N)\n",
    "print(\"Connected Regime: \", p > np.log(N) / N)"
   ]
  },
  {
   "cell_type": "markdown",
   "metadata": {},
   "source": [
    "Thus, it can be said that the network is in the supercritical regime. Having one gaint component where numerous isolated components coexist with the gaint component - the supercritical regime lasting until all nodes are absorbed by the gaint component."
   ]
  },
  {
   "cell_type": "markdown",
   "metadata": {},
   "source": [
    "* Calculate the probability $p_{c}$ so that the network is at the critical point."
   ]
  },
  {
   "cell_type": "markdown",
   "metadata": {},
   "source": [
    "The probability $p_{c}$ so that the network is at the critical point is computed using the following formula: $p = \\frac{1}{(N-1)}$"
   ]
  },
  {
   "cell_type": "code",
   "execution_count": null,
   "metadata": {},
   "outputs": [],
   "source": [
    "p_c = 1 / (N - 1)\n",
    "print('Critical Point:', p_c)"
   ]
  },
  {
   "cell_type": "markdown",
   "metadata": {},
   "source": [
    "* Given the linking probability $p = 10^{–3}$, calculate the number of nodes $N^{cr}$ so that the network has only one component."
   ]
  },
  {
   "cell_type": "markdown",
   "metadata": {},
   "source": [
    "The number of nodes $N^{cr}$ given the linking probability $p = 10^{–3}$ is computed using scipy.optimize in order to satisfy the equation $p = \\frac{ln(N)}{N}$ so that the network is within the connected regime (having only one component):"
   ]
  },
  {
   "cell_type": "code",
   "execution_count": null,
   "metadata": {},
   "outputs": [],
   "source": [
    "# first the equation is defined as a funtion of N\n",
    "def ncr_connected(N):\n",
    "    p = 1e-3\n",
    "    y = (np.log(N) / N) - p\n",
    "    return y\n",
    "\n",
    "y_guess = 10000 # guess\n",
    "ncr = fsolve(ncr_connected, y_guess) # \n",
    "print(\"Number of nodes (Ncr): \", ncr)"
   ]
  },
  {
   "cell_type": "markdown",
   "metadata": {},
   "source": [
    "Thus, given the linking probability $p = 10^{–3}$ the number of nodes is ~ 9118 so that the network is within the connected regime (having only one component)."
   ]
  },
  {
   "cell_type": "markdown",
   "metadata": {},
   "source": [
    "* For the network in (d), calculate the average degree  $〈k^{cr}〉$ and the average distance between two randomly chosen nodes $〈d〉$."
   ]
  },
  {
   "cell_type": "markdown",
   "metadata": {},
   "source": [
    "The average degree $〈k^{cr}〉$ is computed using the following formula: \n",
    "\n",
    "$〈k^{cr}〉 = p_{cr}\\cdot(N_{cr}-1)$\n",
    "\n",
    "and the average distance $〈d〉$ between two randomly chosen nodes is computed using the following formula:\n",
    "\n",
    "$〈d〉 = \\frac{ln(N)}{ln(〈k^{cr}〉)}$"
   ]
  },
  {
   "cell_type": "code",
   "execution_count": null,
   "metadata": {},
   "outputs": [],
   "source": [
    "kcr = p*(ncr - 1)\n",
    "print(\"<k_cr>:\", kcr)\n",
    "\n",
    "d = np.log(ncr) / np.log(kcr)\n",
    "print(\"<d>:\", d)"
   ]
  },
  {
   "cell_type": "markdown",
   "metadata": {},
   "source": [
    "Thus, the average degree $〈k^{cr}〉$ is ~ 9.1170 and the average distance between two randomly chosen nodes $〈d〉$ is ~ 4.1255."
   ]
  },
  {
   "cell_type": "markdown",
   "metadata": {},
   "source": [
    "* Calculate the degree distribution $p_k$ of this network (approximate with a Poisson degree distribution)."
   ]
  },
  {
   "cell_type": "markdown",
   "metadata": {},
   "source": [
    "The degree distribution $p_k$ of the network is approximated using the possion form:\n",
    "\n",
    "$p_k = e^{-〈k〉} \\frac{〈d〉^k}{k!}$"
   ]
  },
  {
   "cell_type": "code",
   "execution_count": null,
   "metadata": {},
   "outputs": [],
   "source": [
    "k = p * (ncr - 1)\n",
    "\n",
    "k = int(k)\n",
    "pk = np.exp(-kcr) * (kcr**k / np.math.factorial(k))\n",
    "\n",
    "print(\"pk:\", pk)\n",
    "\n",
    "t = np.arange(0, 30, 0.1)\n",
    "d = np.exp(-kcr)*np.power(kcr, t)/factorial(t)\n",
    "plt.title(\"Degree distribution (Poisson approximation)\")\n",
    "plt.ylabel(\"$p_{k}$\")\n",
    "plt.xlabel(\"k\")\n",
    "plt.plot(t, d)\n",
    "plt.show()"
   ]
  },
  {
   "cell_type": "markdown",
   "metadata": {},
   "source": [
    "The degree distribution is shown in the plot above with it's peak around $〈k^{cr}〉 \\approx 9.1170$ and $p_{k} \\approx 0.13$."
   ]
  },
  {
   "cell_type": "markdown",
   "metadata": {},
   "source": [
    "### B. Paths. Plot a random network with 200 nodes and an average degree of 1.5. (I suggest using networkx.draw and reading the documentation carefully to get an overview of all the options and what they look like. For example, you may want to shrink the node size)."
   ]
  },
  {
   "cell_type": "markdown",
   "metadata": {},
   "source": [
    "Given $N = 200$ and $〈k〉 = 1.5$ the probability $p$ which we need is computed using the following formula:\n",
    "\n",
    "$〈k〉 = p(N - 1) \\Leftrightarrow p = \\frac{〈k〉}{p(N-1)}$"
   ]
  },
  {
   "cell_type": "code",
   "execution_count": null,
   "metadata": {},
   "outputs": [],
   "source": [
    "# computing p using the given variables and the formula\n",
    "N = 200\n",
    "k_avg = 1.5\n",
    "p = k_avg / (N - 1)"
   ]
  },
  {
   "cell_type": "markdown",
   "metadata": {},
   "source": [
    "Next the random network is generated and plotted using `networkx`"
   ]
  },
  {
   "cell_type": "code",
   "execution_count": null,
   "metadata": {},
   "outputs": [],
   "source": [
    "RG = rg.gnp_random_graph(N, p, seed=24, directed=False) # generate random network\n",
    "\n",
    "# style arguments\n",
    "options = {\n",
    "   'node_size': 40,\n",
    "   'node_shape': 'o',\n",
    "   'edgecolors': 'black' \n",
    "}\n",
    "\n",
    "nx.draw(RG, node_color = 'lightblue', **options) # plot the network\n",
    "plt.show()"
   ]
  },
  {
   "cell_type": "markdown",
   "metadata": {},
   "source": [
    "One giant connected component and multiple smaller components with fewer connections is seen in the generated random network plot shown above as well as many unconnected nodes."
   ]
  },
  {
   "cell_type": "markdown",
   "metadata": {},
   "source": [
    "* Extract the Giant Connected Component, GCC. (Hint. You can use networkx.connected_component_subgraphs)"
   ]
  },
  {
   "cell_type": "markdown",
   "metadata": {},
   "source": [
    "The Giant Connected Component (GCC) is extracted by first getting the nodes of the largest component using `networkx.max(nx.connected_components(G)` and then by creating a subgraph of said nodes `G.subgraph(c).copy()`"
   ]
  },
  {
   "cell_type": "code",
   "execution_count": null,
   "metadata": {},
   "outputs": [],
   "source": [
    "largest_cc = max(nx.connected_components(RG), key=len) # get nodes of largest component\n",
    "GCC = RG.subgraph(largest_cc).copy() # create GCC as a copy of the subgraph largest_cc\n",
    "\n",
    "# plot giant connected component\n",
    "nx.draw(GCC, node_color = 'lightblue', **options) \n",
    "plt.show()"
   ]
  },
  {
   "cell_type": "markdown",
   "metadata": {},
   "source": [
    "* Choose a node at random from the GCC. (Hint: You may want to try random.choice.)"
   ]
  },
  {
   "cell_type": "markdown",
   "metadata": {},
   "source": [
    "Then a random node is chosen using random.choice"
   ]
  },
  {
   "cell_type": "code",
   "execution_count": null,
   "metadata": {},
   "outputs": [],
   "source": [
    "GCC_nodes = list(GCC.nodes) # create list of nodes\n",
    "random_node = random.choice(GCC_nodes) # chose a random node from the list of nodes\n",
    "print(\"Chosen random node:\", random_node)"
   ]
  },
  {
   "cell_type": "markdown",
   "metadata": {},
   "source": [
    "* Find all nodes that are precisely 2 steps away from that node. (Hint. I suggest networkx.single_source_shortest_path_length)"
   ]
  },
  {
   "cell_type": "markdown",
   "metadata": {},
   "source": [
    "The *length* to each from the randomly chosen node is then computed using `networkx.single_source_shortest_path_length`"
   ]
  },
  {
   "cell_type": "code",
   "execution_count": null,
   "metadata": {},
   "outputs": [],
   "source": [
    "length = nx.single_source_shortest_path_length(GCC, random_node)"
   ]
  },
  {
   "cell_type": "markdown",
   "metadata": {},
   "source": [
    "Next one can find and print all nodes that are precisely 2 steps away from the chosen node"
   ]
  },
  {
   "cell_type": "code",
   "execution_count": null,
   "metadata": {},
   "outputs": [],
   "source": [
    "def get_nodes_with_length(d, val):\n",
    "    return [key for key, value in d.items() if value == val]\n",
    "\n",
    "nodes = get_nodes_with_length(length, 2)\n",
    "print(\"nodes that are precisely 2 steps away from the chosen node:\", nodes)"
   ]
  },
  {
   "cell_type": "markdown",
   "metadata": {},
   "source": [
    "* Plot the GCC with the following choice of colors. Starting node black (\"#000000\"). The nodes 2 steps away red (\"#ff0000\"). All other nodes blue (\"#A0CBE2\"). Again, I suggest using networkx.draw() and reading the documentation carefully find out how to color individual nodes."
   ]
  },
  {
   "cell_type": "markdown",
   "metadata": {},
   "source": [
    "Using the previously created dict containing nodes and lengths from the source (randomly chosen node) a color map can be created"
   ]
  },
  {
   "cell_type": "code",
   "execution_count": null,
   "metadata": {},
   "outputs": [],
   "source": [
    "color_map = []\n",
    "for node in GCC: # for each node in the giant connected component\n",
    "    if length[node] == 0: # starting node\n",
    "        color_map.append(\"#000000\") \n",
    "    elif length[node] == 2: # nodes 2-steps away\n",
    "        color_map.append(\"#ff0000\") \n",
    "    else: # all other nodes\n",
    "        color_map.append(\"#A0CBE2\") "
   ]
  },
  {
   "cell_type": "markdown",
   "metadata": {},
   "source": [
    "Then, the graph is plotted using the color map"
   ]
  },
  {
   "cell_type": "code",
   "execution_count": null,
   "metadata": {},
   "outputs": [],
   "source": [
    "nx.draw(GCC, node_color = color_map, **options)\n",
    "plt.show()"
   ]
  },
  {
   "cell_type": "markdown",
   "metadata": {},
   "source": [
    "The plot above show the Giant Connected Component from the generated random network with the randomly chosen node colored black and nodes that are precisely 2 steps away from the chosen node colored red. "
   ]
  },
  {
   "cell_type": "markdown",
   "metadata": {},
   "source": []
  }
 ],
 "metadata": {
  "kernelspec": {
   "display_name": "Python 3 (ipykernel)",
   "language": "python",
   "name": "python3"
  },
  "language_info": {
   "codemirror_mode": {
    "name": "ipython",
    "version": 3
   },
   "file_extension": ".py",
   "mimetype": "text/x-python",
   "name": "python",
   "nbconvert_exporter": "python",
   "pygments_lexer": "ipython3",
   "version": "3.9.12"
  },
  "vscode": {
   "interpreter": {
    "hash": "2f14d9bbeb55d06bdf0654444dbbcf48ec4e0c298e3d669ea76401bf3f028d2a"
   }
  }
 },
 "nbformat": 4,
 "nbformat_minor": 1
}
