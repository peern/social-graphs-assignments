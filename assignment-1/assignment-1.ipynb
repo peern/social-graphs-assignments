{
 "cells": [
  {
   "cell_type": "code",
   "execution_count": 4,
   "metadata": {},
   "outputs": [],
   "source": [
    "# imports\n",
    "\n",
    "# part 2\n",
    "import numpy as np\n",
    "from scipy.optimize import fsolve\n",
    "from scipy.special import factorial"
   ]
  },
  {
   "cell_type": "markdown",
   "metadata": {
    "collapsed": false,
    "pycharm": {
     "name": "#%% md\n"
    }
   },
   "source": [
    "# Assignment 1\n",
    "_Social graphs and interactions (02805)_"
   ]
  },
  {
   "cell_type": "markdown",
   "metadata": {
    "collapsed": false,
    "pycharm": {
     "name": "#%% md\n"
    }
   },
   "source": [
    "## Part 2: Random networks and plotting in `networkx`"
   ]
  },
  {
   "cell_type": "markdown",
   "metadata": {},
   "source": [
    "### A. In your notebook, work through NS exercise 3.1 ('Erdős-Rényi Networks'). The exercise can be found in Section 3.11: Homework."
   ]
  },
  {
   "cell_type": "markdown",
   "metadata": {},
   "source": [
    "* Erdős-Rényi Networks\n",
    "\n",
    "Consider an Erdős-Rényi network with N = 3,000 nodes, connected to each other with probability $p = 10^{–3}$."
   ]
  },
  {
   "cell_type": "markdown",
   "metadata": {},
   "source": [
    "* What is the expected number of links, 〈L〉?"
   ]
  },
  {
   "cell_type": "markdown",
   "metadata": {},
   "source": [
    "The maximum number of links $L_{max}$  is computed using the following formula: \n",
    "\n",
    "$L_{max} = \\frac{N(N-1)}{2}$\n",
    "\n",
    "Given the probability $p = 10^{–3}$ of nodes connected to each other we can computed the expected number of links:"
   ]
  },
  {
   "cell_type": "code",
   "execution_count": 3,
   "metadata": {},
   "outputs": [
    {
     "name": "stdout",
     "output_type": "stream",
     "text": [
      "expected number of links <L>: 4498.5\n"
     ]
    }
   ],
   "source": [
    "N = 3000 # number of nodes\n",
    "p = 1e-3 # probability of nodes being connected\n",
    "(L) = (p * N * (N - 1)) / 2\n",
    "print('expected number of links <L>:', (L))"
   ]
  },
  {
   "cell_type": "markdown",
   "metadata": {},
   "source": [
    "* In which regime is the network?"
   ]
  },
  {
   "cell_type": "markdown",
   "metadata": {},
   "source": [
    "The regime can easily be tested given *N* and *p* as follows:"
   ]
  },
  {
   "cell_type": "code",
   "execution_count": 5,
   "metadata": {},
   "outputs": [
    {
     "name": "stdout",
     "output_type": "stream",
     "text": [
      "Subcritical Regime:  False\n",
      "Critical Point:  False\n",
      "Supercritical Regime:  True\n",
      "Connected Regime:  False\n"
     ]
    }
   ],
   "source": [
    "print(\"Subcritical Regime: \", p < 1 / N)\n",
    "print(\"Critical Point: \", p == 1 / N)\n",
    "print(\"Supercritical Regime: \", p > 1 / N)\n",
    "print(\"Connected Regime: \", p > np.log(N) / N)"
   ]
  },
  {
   "cell_type": "markdown",
   "metadata": {},
   "source": [
    "Thus, it can be said that the network is in the supercritical regime. Having one gaint component where numerous isolated components coexist with the gaint component - the supercritical regime lasting until all nodes are absorbed by the gaint component."
   ]
  },
  {
   "cell_type": "markdown",
   "metadata": {},
   "source": [
    "* Calculate the probability $p_{c}$ so that the network is at the critical point."
   ]
  },
  {
   "cell_type": "markdown",
   "metadata": {},
   "source": [
    "The probability $p_{c}$ so that the network is at the critical point is computed using the following formula: $p = \\frac{1}{(N-1)}$"
   ]
  },
  {
   "cell_type": "code",
   "execution_count": 7,
   "metadata": {},
   "outputs": [
    {
     "name": "stdout",
     "output_type": "stream",
     "text": [
      "Critical Point: 0.00033344448149383126\n"
     ]
    }
   ],
   "source": [
    "p_c = 1 / (N - 1)\n",
    "print('Critical Point:', p_c)"
   ]
  },
  {
   "cell_type": "markdown",
   "metadata": {},
   "source": [
    "* Given the linking probability $p = 10^{–3}$, calculate the number of nodes $N^{cr}$ so that the network has only one component."
   ]
  },
  {
   "cell_type": "markdown",
   "metadata": {},
   "source": [
    "The number of nodes $N^{cr}$ given the linking probability $p = 10^{–3}$ is computed using scipy.optimize in order to satisfy the equation $p = \\frac{ln(N)}{N}$ such that the network has only one component:"
   ]
  },
  {
   "cell_type": "code",
   "execution_count": null,
   "metadata": {},
   "outputs": [],
   "source": [
    "def ncr_connected(x):\n",
    "    p = 0.001\n",
    "    y = (np.log(x) / x) - p\n",
    "    return y\n",
    "\n",
    "yGuess = 10000\n",
    "ncr = fsolve(ncr_connected, yGuess)\n",
    "print(\"Number of nodes Ncr: \", ncr)"
   ]
  },
  {
   "cell_type": "markdown",
   "metadata": {},
   "source": []
  }
 ],
 "metadata": {
  "kernelspec": {
   "display_name": "Python 3.9.12 ('base')",
   "language": "python",
   "name": "python3"
  },
  "language_info": {
   "codemirror_mode": {
    "name": "ipython",
    "version": 3
   },
   "file_extension": ".py",
   "mimetype": "text/x-python",
   "name": "python",
   "nbconvert_exporter": "python",
   "pygments_lexer": "ipython3",
   "version": "3.9.12"
  },
  "vscode": {
   "interpreter": {
    "hash": "2f14d9bbeb55d06bdf0654444dbbcf48ec4e0c298e3d669ea76401bf3f028d2a"
   }
  }
 },
 "nbformat": 4,
 "nbformat_minor": 0
}
