{
 "cells": [
  {
   "cell_type": "code",
   "execution_count": 19,
   "metadata": {},
   "outputs": [],
   "source": [
    "# imports\n",
    "import numpy as np\n",
    "from scipy.optimize import fsolve\n",
    "from scipy.special import factorial\n",
    "import matplotlib.pyplot as plt"
   ]
  },
  {
   "cell_type": "markdown",
   "metadata": {
    "collapsed": false,
    "pycharm": {
     "name": "#%% md\n"
    }
   },
   "source": [
    "# Assignment 1\n",
    "_Social graphs and interactions (02805)_"
   ]
  },
  {
   "cell_type": "markdown",
   "metadata": {
    "collapsed": false,
    "pycharm": {
     "name": "#%% md\n"
    }
   },
   "source": [
    "## Part 2: Random networks and plotting in `networkx`"
   ]
  },
  {
   "cell_type": "markdown",
   "metadata": {},
   "source": [
    "### A. In your notebook, work through NS exercise 3.1 ('Erdős-Rényi Networks'). The exercise can be found in Section 3.11: Homework."
   ]
  },
  {
   "cell_type": "markdown",
   "metadata": {},
   "source": [
    "* Erdős-Rényi Networks\n",
    "\n",
    "Consider an Erdős-Rényi network with N = 3,000 nodes, connected to each other with probability $p = 10^{–3}$."
   ]
  },
  {
   "cell_type": "markdown",
   "metadata": {},
   "source": [
    "* What is the expected number of links, $〈L〉$?"
   ]
  },
  {
   "cell_type": "markdown",
   "metadata": {},
   "source": [
    "The maximum number of links $L_{max}$  is computed using the following formula: \n",
    "\n",
    "$L_{max} = \\frac{N(N-1)}{2}$\n",
    "\n",
    "Given the probability $p = 10^{–3}$ of nodes connected to each other we can computed the expected number of links:"
   ]
  },
  {
   "cell_type": "code",
   "execution_count": 20,
   "metadata": {},
   "outputs": [
    {
     "name": "stdout",
     "output_type": "stream",
     "text": [
      "expected number of links <L>: 4498.5\n"
     ]
    }
   ],
   "source": [
    "N = 3000 # number of nodes\n",
    "p = 1e-3 # probability of nodes being connected\n",
    "(L) = (p * N * (N - 1)) / 2\n",
    "print('expected number of links <L>:', (L))"
   ]
  },
  {
   "cell_type": "markdown",
   "metadata": {},
   "source": [
    "* In which regime is the network?"
   ]
  },
  {
   "cell_type": "markdown",
   "metadata": {},
   "source": [
    "The regime can easily be tested given *N* and *p* as follows:"
   ]
  },
  {
   "cell_type": "code",
   "execution_count": 21,
   "metadata": {},
   "outputs": [
    {
     "name": "stdout",
     "output_type": "stream",
     "text": [
      "Subcritical Regime:  False\n",
      "Critical Point:  False\n",
      "Supercritical Regime:  True\n",
      "Connected Regime:  False\n"
     ]
    }
   ],
   "source": [
    "print(\"Subcritical Regime: \", p < 1 / N)\n",
    "print(\"Critical Point: \", p == 1 / N)\n",
    "print(\"Supercritical Regime: \", p > 1 / N)\n",
    "print(\"Connected Regime: \", p > np.log(N) / N)"
   ]
  },
  {
   "cell_type": "markdown",
   "metadata": {},
   "source": [
    "Thus, it can be said that the network is in the supercritical regime. Having one gaint component where numerous isolated components coexist with the gaint component - the supercritical regime lasting until all nodes are absorbed by the gaint component."
   ]
  },
  {
   "cell_type": "markdown",
   "metadata": {},
   "source": [
    "* Calculate the probability $p_{c}$ so that the network is at the critical point."
   ]
  },
  {
   "cell_type": "markdown",
   "metadata": {},
   "source": [
    "The probability $p_{c}$ so that the network is at the critical point is computed using the following formula: $p = \\frac{1}{(N-1)}$"
   ]
  },
  {
   "cell_type": "code",
   "execution_count": 22,
   "metadata": {},
   "outputs": [
    {
     "name": "stdout",
     "output_type": "stream",
     "text": [
      "Critical Point: 0.00033344448149383126\n"
     ]
    }
   ],
   "source": [
    "p_c = 1 / (N - 1)\n",
    "print('Critical Point:', p_c)"
   ]
  },
  {
   "cell_type": "markdown",
   "metadata": {},
   "source": [
    "* Given the linking probability $p = 10^{–3}$, calculate the number of nodes $N^{cr}$ so that the network has only one component."
   ]
  },
  {
   "cell_type": "markdown",
   "metadata": {},
   "source": [
    "The number of nodes $N^{cr}$ given the linking probability $p = 10^{–3}$ is computed using scipy.optimize in order to satisfy the equation $p = \\frac{ln(N)}{N}$ so that the network is within the connected regime (having only one component):"
   ]
  },
  {
   "cell_type": "code",
   "execution_count": 23,
   "metadata": {},
   "outputs": [
    {
     "name": "stdout",
     "output_type": "stream",
     "text": [
      "Number of nodes (Ncr):  [9118.0064704]\n"
     ]
    }
   ],
   "source": [
    "# first the equation is defined as a funtion of N\n",
    "def ncr_connected(N):\n",
    "    p = 1e-3\n",
    "    y = (np.log(N) / N) - p\n",
    "    return y\n",
    "\n",
    "y_guess = 10000 # guess\n",
    "ncr = fsolve(ncr_connected, y_guess) # \n",
    "print(\"Number of nodes (Ncr): \", ncr)"
   ]
  },
  {
   "cell_type": "markdown",
   "metadata": {},
   "source": [
    "Thus, given the linking probability $p = 10^{–3}$ the number of nodes is ~ 9118 so that the network is within the connected regime (having only one component)."
   ]
  },
  {
   "cell_type": "markdown",
   "metadata": {},
   "source": [
    "* For the network in (d), calculate the average degree  $〈k^{cr}〉$ and the average distance between two randomly chosen nodes $〈d〉$."
   ]
  },
  {
   "cell_type": "markdown",
   "metadata": {},
   "source": [
    "The average degree $〈k^{cr}〉$ is computed using the following formula: \n",
    "\n",
    "$〈k^{cr}〉 = p_{cr}\\cdot(N_{cr}-1)$\n",
    "\n",
    "and the average distance $〈d〉$ between two randomly chosen nodes is computed using the following formula:\n",
    "\n",
    "$〈d〉 = \\frac{ln(N)}{ln(〈k^{cr}〉)}$"
   ]
  },
  {
   "cell_type": "code",
   "execution_count": 24,
   "metadata": {},
   "outputs": [
    {
     "name": "stdout",
     "output_type": "stream",
     "text": [
      "<k_cr>: [9.11700647]\n",
      "<d>: [4.12553061]\n"
     ]
    }
   ],
   "source": [
    "kcr = p*(ncr - 1)\n",
    "print(\"<k_cr>:\", kcr)\n",
    "\n",
    "d = np.log(ncr) / np.log(kcr)\n",
    "print(\"<d>:\", d)"
   ]
  },
  {
   "cell_type": "markdown",
   "metadata": {},
   "source": [
    "Thus, the average degree $〈k^{cr}〉$ is ~ 9.1170 and the average distance between two randomly chosen nodes $〈d〉$ is ~ 4.1255."
   ]
  },
  {
   "cell_type": "markdown",
   "metadata": {},
   "source": [
    "* Calculate the degree distribution $p_k$ of this network (approximate with a Poisson degree distribution)."
   ]
  },
  {
   "cell_type": "markdown",
   "metadata": {},
   "source": [
    "The degree distribution $p_k$ of the network is approximated using the possion form:\n",
    "\n",
    "$p_k = e^{-〈k〉} \\frac{〈d〉^k}{k!}$"
   ]
  },
  {
   "cell_type": "code",
   "execution_count": 25,
   "metadata": {},
   "outputs": [
    {
     "name": "stdout",
     "output_type": "stream",
     "text": [
      "Degree distribution: [0.13165633]\n"
     ]
    },
    {
     "data": {
      "image/png": "[encoded data removed]",
      "text/plain": [
       "<Figure size 640x480 with 1 Axes>"
      ]
     },
     "metadata": {},
     "output_type": "display_data"
    }
   ],
   "source": [
    "k = p * (ncr - 1)\n",
    "\n",
    "k = int(k)\n",
    "pk = np.exp(-kcr) * (kcr**k / np.math.factorial(k))\n",
    "\n",
    "print(\"Degree distribution:\", pk)\n",
    "\n",
    "t = np.arange(0, 30, 0.1)\n",
    "d = np.exp(-kcr)*np.power(kcr, t)/factorial(t)\n",
    "plt.title(\"Degree distribution (Poisson approximation)\")\n",
    "plt.ylabel(\"$p_{k}$\")\n",
    "plt.xlabel(\"k\")\n",
    "plt.plot(t, d)\n",
    "plt.show()"
   ]
  },
  {
   "cell_type": "markdown",
   "metadata": {},
   "source": [
    "The degree distribution is shown in the plot above where the highest probability $p_{k}$ is ~ 0.13 with k around ~ 9 - interestingly the average degree computed early was 9.117.\n",
    "\n",
    "<!-- TODO -->"
   ]
  },
  {
   "cell_type": "markdown",
   "metadata": {},
   "source": []
  }
 ],
 "metadata": {
  "kernelspec": {
   "display_name": "Python 3.9.12 ('base')",
   "language": "python",
   "name": "python3"
  },
  "language_info": {
   "codemirror_mode": {
    "name": "ipython",
    "version": 3
   },
   "file_extension": ".py",
   "mimetype": "text/x-python",
   "name": "python",
   "nbconvert_exporter": "python",
   "pygments_lexer": "ipython3",
   "version": "3.9.12"
  },
  "vscode": {
   "interpreter": {
    "hash": "2f14d9bbeb55d06bdf0654444dbbcf48ec4e0c298e3d669ea76401bf3f028d2a"
   }
  }
 },
 "nbformat": 4,
 "nbformat_minor": 0
}
